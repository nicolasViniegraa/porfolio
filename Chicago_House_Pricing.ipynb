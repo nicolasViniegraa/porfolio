{
  "nbformat": 4,
  "nbformat_minor": 0,
  "metadata": {
    "colab": {
      "provenance": []
    },
    "kernelspec": {
      "name": "python3",
      "display_name": "Python 3"
    },
    "language_info": {
      "name": "python"
    }
  },
  "cells": [
    {
      "cell_type": "markdown",
      "source": [
        "In this notebook I've created a Linear Regresion model that predicts the price of houses. The dataset was obtained in kaggle.com <br>\n",
        "https://www.kaggle.com/datasets/tawfikelmetwally/chicago-house-price"
      ],
      "metadata": {
        "id": "4mNLzhcoa17M"
      }
    },
    {
      "cell_type": "markdown",
      "source": [
        "Note: Due to the low amount of data in the dataset if possible that the model doesn't develop a great accuracy"
      ],
      "metadata": {
        "id": "GTLsbd1mcodM"
      }
    },
    {
      "cell_type": "code",
      "execution_count": 25,
      "metadata": {
        "id": "GStcSbwDKy1r"
      },
      "outputs": [],
      "source": [
        "import pandas as pd\n",
        "import numpy as np\n",
        "from sklearn import preprocessing\n",
        "from sklearn.preprocessing import StandardScaler\n",
        "from sklearn.model_selection import train_test_split\n",
        "from sklearn.linear_model import LinearRegression"
      ]
    },
    {
      "cell_type": "code",
      "source": [
        "data = pd.read_csv('realest.csv')\n",
        "\n",
        "data.describe()"
      ],
      "metadata": {
        "colab": {
          "base_uri": "https://localhost:8080/",
          "height": 300
        },
        "id": "ymPk3MnyLOFL",
        "outputId": "a79b459d-1d32-4331-9435-c2a000da4b68"
      },
      "execution_count": 28,
      "outputs": [
        {
          "output_type": "execute_result",
          "data": {
            "text/plain": [
              "            Price     Bedroom        Space        Room         Lot  \\\n",
              "count  156.000000  156.000000   146.000000  156.000000  146.000000   \n",
              "mean    56.474359    3.166667  1097.246575    6.500000   32.808219   \n",
              "std     12.875307    1.348037   462.540698    1.675247    8.457859   \n",
              "min     32.000000    1.000000   539.000000    4.000000   24.000000   \n",
              "25%     46.000000    2.000000   805.250000    5.000000   25.000000   \n",
              "50%     55.000000    3.000000   965.500000    6.000000   30.000000   \n",
              "75%     65.000000    4.000000  1220.500000    7.000000   37.000000   \n",
              "max     90.000000    8.000000  2295.000000   12.000000   50.000000   \n",
              "\n",
              "               Tax    Bathroom      Garage   Condition  \n",
              "count   147.000000  156.000000  156.000000  156.000000  \n",
              "mean    911.707483    1.480769    0.846154    0.230769  \n",
              "std     443.263430    0.529408    0.808454    0.422682  \n",
              "min     418.000000    1.000000    0.000000    0.000000  \n",
              "25%     652.500000    1.000000    0.000000    0.000000  \n",
              "50%     821.000000    1.500000    1.000000    0.000000  \n",
              "75%    1012.500000    2.000000    1.500000    0.000000  \n",
              "max    2752.000000    3.000000    2.000000    1.000000  "
            ],
            "text/html": [
              "\n",
              "  <div id=\"df-dc119a6a-084b-4372-9d27-9b31b56470e0\">\n",
              "    <div class=\"colab-df-container\">\n",
              "      <div>\n",
              "<style scoped>\n",
              "    .dataframe tbody tr th:only-of-type {\n",
              "        vertical-align: middle;\n",
              "    }\n",
              "\n",
              "    .dataframe tbody tr th {\n",
              "        vertical-align: top;\n",
              "    }\n",
              "\n",
              "    .dataframe thead th {\n",
              "        text-align: right;\n",
              "    }\n",
              "</style>\n",
              "<table border=\"1\" class=\"dataframe\">\n",
              "  <thead>\n",
              "    <tr style=\"text-align: right;\">\n",
              "      <th></th>\n",
              "      <th>Price</th>\n",
              "      <th>Bedroom</th>\n",
              "      <th>Space</th>\n",
              "      <th>Room</th>\n",
              "      <th>Lot</th>\n",
              "      <th>Tax</th>\n",
              "      <th>Bathroom</th>\n",
              "      <th>Garage</th>\n",
              "      <th>Condition</th>\n",
              "    </tr>\n",
              "  </thead>\n",
              "  <tbody>\n",
              "    <tr>\n",
              "      <th>count</th>\n",
              "      <td>156.000000</td>\n",
              "      <td>156.000000</td>\n",
              "      <td>146.000000</td>\n",
              "      <td>156.000000</td>\n",
              "      <td>146.000000</td>\n",
              "      <td>147.000000</td>\n",
              "      <td>156.000000</td>\n",
              "      <td>156.000000</td>\n",
              "      <td>156.000000</td>\n",
              "    </tr>\n",
              "    <tr>\n",
              "      <th>mean</th>\n",
              "      <td>56.474359</td>\n",
              "      <td>3.166667</td>\n",
              "      <td>1097.246575</td>\n",
              "      <td>6.500000</td>\n",
              "      <td>32.808219</td>\n",
              "      <td>911.707483</td>\n",
              "      <td>1.480769</td>\n",
              "      <td>0.846154</td>\n",
              "      <td>0.230769</td>\n",
              "    </tr>\n",
              "    <tr>\n",
              "      <th>std</th>\n",
              "      <td>12.875307</td>\n",
              "      <td>1.348037</td>\n",
              "      <td>462.540698</td>\n",
              "      <td>1.675247</td>\n",
              "      <td>8.457859</td>\n",
              "      <td>443.263430</td>\n",
              "      <td>0.529408</td>\n",
              "      <td>0.808454</td>\n",
              "      <td>0.422682</td>\n",
              "    </tr>\n",
              "    <tr>\n",
              "      <th>min</th>\n",
              "      <td>32.000000</td>\n",
              "      <td>1.000000</td>\n",
              "      <td>539.000000</td>\n",
              "      <td>4.000000</td>\n",
              "      <td>24.000000</td>\n",
              "      <td>418.000000</td>\n",
              "      <td>1.000000</td>\n",
              "      <td>0.000000</td>\n",
              "      <td>0.000000</td>\n",
              "    </tr>\n",
              "    <tr>\n",
              "      <th>25%</th>\n",
              "      <td>46.000000</td>\n",
              "      <td>2.000000</td>\n",
              "      <td>805.250000</td>\n",
              "      <td>5.000000</td>\n",
              "      <td>25.000000</td>\n",
              "      <td>652.500000</td>\n",
              "      <td>1.000000</td>\n",
              "      <td>0.000000</td>\n",
              "      <td>0.000000</td>\n",
              "    </tr>\n",
              "    <tr>\n",
              "      <th>50%</th>\n",
              "      <td>55.000000</td>\n",
              "      <td>3.000000</td>\n",
              "      <td>965.500000</td>\n",
              "      <td>6.000000</td>\n",
              "      <td>30.000000</td>\n",
              "      <td>821.000000</td>\n",
              "      <td>1.500000</td>\n",
              "      <td>1.000000</td>\n",
              "      <td>0.000000</td>\n",
              "    </tr>\n",
              "    <tr>\n",
              "      <th>75%</th>\n",
              "      <td>65.000000</td>\n",
              "      <td>4.000000</td>\n",
              "      <td>1220.500000</td>\n",
              "      <td>7.000000</td>\n",
              "      <td>37.000000</td>\n",
              "      <td>1012.500000</td>\n",
              "      <td>2.000000</td>\n",
              "      <td>1.500000</td>\n",
              "      <td>0.000000</td>\n",
              "    </tr>\n",
              "    <tr>\n",
              "      <th>max</th>\n",
              "      <td>90.000000</td>\n",
              "      <td>8.000000</td>\n",
              "      <td>2295.000000</td>\n",
              "      <td>12.000000</td>\n",
              "      <td>50.000000</td>\n",
              "      <td>2752.000000</td>\n",
              "      <td>3.000000</td>\n",
              "      <td>2.000000</td>\n",
              "      <td>1.000000</td>\n",
              "    </tr>\n",
              "  </tbody>\n",
              "</table>\n",
              "</div>\n",
              "      <button class=\"colab-df-convert\" onclick=\"convertToInteractive('df-dc119a6a-084b-4372-9d27-9b31b56470e0')\"\n",
              "              title=\"Convert this dataframe to an interactive table.\"\n",
              "              style=\"display:none;\">\n",
              "        \n",
              "  <svg xmlns=\"http://www.w3.org/2000/svg\" height=\"24px\"viewBox=\"0 0 24 24\"\n",
              "       width=\"24px\">\n",
              "    <path d=\"M0 0h24v24H0V0z\" fill=\"none\"/>\n",
              "    <path d=\"M18.56 5.44l.94 2.06.94-2.06 2.06-.94-2.06-.94-.94-2.06-.94 2.06-2.06.94zm-11 1L8.5 8.5l.94-2.06 2.06-.94-2.06-.94L8.5 2.5l-.94 2.06-2.06.94zm10 10l.94 2.06.94-2.06 2.06-.94-2.06-.94-.94-2.06-.94 2.06-2.06.94z\"/><path d=\"M17.41 7.96l-1.37-1.37c-.4-.4-.92-.59-1.43-.59-.52 0-1.04.2-1.43.59L10.3 9.45l-7.72 7.72c-.78.78-.78 2.05 0 2.83L4 21.41c.39.39.9.59 1.41.59.51 0 1.02-.2 1.41-.59l7.78-7.78 2.81-2.81c.8-.78.8-2.07 0-2.86zM5.41 20L4 18.59l7.72-7.72 1.47 1.35L5.41 20z\"/>\n",
              "  </svg>\n",
              "      </button>\n",
              "      \n",
              "  <style>\n",
              "    .colab-df-container {\n",
              "      display:flex;\n",
              "      flex-wrap:wrap;\n",
              "      gap: 12px;\n",
              "    }\n",
              "\n",
              "    .colab-df-convert {\n",
              "      background-color: #E8F0FE;\n",
              "      border: none;\n",
              "      border-radius: 50%;\n",
              "      cursor: pointer;\n",
              "      display: none;\n",
              "      fill: #1967D2;\n",
              "      height: 32px;\n",
              "      padding: 0 0 0 0;\n",
              "      width: 32px;\n",
              "    }\n",
              "\n",
              "    .colab-df-convert:hover {\n",
              "      background-color: #E2EBFA;\n",
              "      box-shadow: 0px 1px 2px rgba(60, 64, 67, 0.3), 0px 1px 3px 1px rgba(60, 64, 67, 0.15);\n",
              "      fill: #174EA6;\n",
              "    }\n",
              "\n",
              "    [theme=dark] .colab-df-convert {\n",
              "      background-color: #3B4455;\n",
              "      fill: #D2E3FC;\n",
              "    }\n",
              "\n",
              "    [theme=dark] .colab-df-convert:hover {\n",
              "      background-color: #434B5C;\n",
              "      box-shadow: 0px 1px 3px 1px rgba(0, 0, 0, 0.15);\n",
              "      filter: drop-shadow(0px 1px 2px rgba(0, 0, 0, 0.3));\n",
              "      fill: #FFFFFF;\n",
              "    }\n",
              "  </style>\n",
              "\n",
              "      <script>\n",
              "        const buttonEl =\n",
              "          document.querySelector('#df-dc119a6a-084b-4372-9d27-9b31b56470e0 button.colab-df-convert');\n",
              "        buttonEl.style.display =\n",
              "          google.colab.kernel.accessAllowed ? 'block' : 'none';\n",
              "\n",
              "        async function convertToInteractive(key) {\n",
              "          const element = document.querySelector('#df-dc119a6a-084b-4372-9d27-9b31b56470e0');\n",
              "          const dataTable =\n",
              "            await google.colab.kernel.invokeFunction('convertToInteractive',\n",
              "                                                     [key], {});\n",
              "          if (!dataTable) return;\n",
              "\n",
              "          const docLinkHtml = 'Like what you see? Visit the ' +\n",
              "            '<a target=\"_blank\" href=https://colab.research.google.com/notebooks/data_table.ipynb>data table notebook</a>'\n",
              "            + ' to learn more about interactive tables.';\n",
              "          element.innerHTML = '';\n",
              "          dataTable['output_type'] = 'display_data';\n",
              "          await google.colab.output.renderOutput(dataTable, element);\n",
              "          const docLink = document.createElement('div');\n",
              "          docLink.innerHTML = docLinkHtml;\n",
              "          element.appendChild(docLink);\n",
              "        }\n",
              "      </script>\n",
              "    </div>\n",
              "  </div>\n",
              "  "
            ]
          },
          "metadata": {},
          "execution_count": 28
        }
      ]
    },
    {
      "cell_type": "markdown",
      "source": [
        "We have the following variables:\n",
        "\n",
        "Price: Price of the house <br>\n",
        "Bedroom: Number of bedrooms <br>\n",
        "Space: Size of the house (in square feet) <br>\n",
        "Room: Number of rooms <br>\n",
        "Lot: Width of a lot <br>\n",
        "Tax: Amount of annual tax <br>\n",
        "Bathroom: Number of bathrooms <br>\n",
        "Garage: Number of garages <br>\n",
        "Condition: Condition of house (1 if good , 0 otherwise) <br>"
      ],
      "metadata": {
        "id": "A4LPScHgbK0F"
      }
    },
    {
      "cell_type": "code",
      "source": [
        "data = data.dropna()"
      ],
      "metadata": {
        "id": "5phjPiNxPDjY"
      },
      "execution_count": 35,
      "outputs": []
    },
    {
      "cell_type": "code",
      "source": [
        "data.corr(numeric_only = True)['Price']"
      ],
      "metadata": {
        "colab": {
          "base_uri": "https://localhost:8080/"
        },
        "id": "d9nWSXHXLb0b",
        "outputId": "e3d495e1-0ffb-4903-9408-0a7214675969"
      },
      "execution_count": 36,
      "outputs": [
        {
          "output_type": "execute_result",
          "data": {
            "text/plain": [
              "Price        1.000000\n",
              "Bedroom      0.321623\n",
              "Space        0.739074\n",
              "Room         0.578310\n",
              "Lot          0.467262\n",
              "Tax          0.505958\n",
              "Bathroom     0.567729\n",
              "Garage       0.555242\n",
              "Condition    0.137773\n",
              "Name: Price, dtype: float64"
            ]
          },
          "metadata": {},
          "execution_count": 36
        }
      ]
    },
    {
      "cell_type": "markdown",
      "source": [
        "Analyzing the correlation between the variables X and the price Y, we see that almost all the variables have an important correlation excluding the \"Condition\" variable, so we will develop a model with and without that variable to see which model has a higher precision."
      ],
      "metadata": {
        "id": "rvyXk-TJMnkK"
      }
    },
    {
      "cell_type": "markdown",
      "source": [
        "First we'll start with the model including the \"Condition\" variable"
      ],
      "metadata": {
        "id": "UsNxUV_OcXJb"
      }
    },
    {
      "cell_type": "code",
      "source": [
        "X_data = data[['Bedroom', 'Space', 'Room', 'Lot', 'Tax', 'Bathroom', 'Garage', 'Condition']]\n",
        "y_data = data['Price']"
      ],
      "metadata": {
        "id": "FJYnuhhGN2lX"
      },
      "execution_count": 61,
      "outputs": []
    },
    {
      "cell_type": "code",
      "source": [
        "scaler = StandardScaler()\n",
        "scaler.fit(X_data)\n",
        "scaled_data = scaler.transform(X_data)"
      ],
      "metadata": {
        "id": "VPXpKHsNMQZL"
      },
      "execution_count": 62,
      "outputs": []
    },
    {
      "cell_type": "markdown",
      "source": [
        "Normalize data for better perfomance of the model"
      ],
      "metadata": {
        "id": "TFSS4pjfNgw2"
      }
    },
    {
      "cell_type": "code",
      "source": [
        "max_acc = 0\n",
        "best_size = 0\n",
        "\n",
        "\n",
        "#Use different test sizes to see which has better performance\n",
        "for size in [0.15, 0.2, 0.25, 0.3, 0.35]:\n",
        "  X_train, X_test, y_train, y_test = train_test_split(X_data, y_data, random_state=42, test_size=size)\n",
        "\n",
        "  reg = LinearRegression().fit(X_train, y_train)\n",
        "\n",
        "  score = reg.score(X_test, y_test)\n",
        "\n",
        "  if score > max_acc:\n",
        "    max_acc = score\n",
        "    best_size = size\n",
        "\n",
        "print(\"The best accuracy is obtained with a test size of {} and is {}\".format(best_size, max_acc))"
      ],
      "metadata": {
        "colab": {
          "base_uri": "https://localhost:8080/"
        },
        "id": "Mk6loLcUR9nm",
        "outputId": "0671f9f9-cb5e-4b8b-d08b-8a326b66ce71"
      },
      "execution_count": 63,
      "outputs": [
        {
          "output_type": "stream",
          "name": "stdout",
          "text": [
            "The best accuracy is obtained with a test size of 0.25 and is 0.7013069999242456\n"
          ]
        }
      ]
    },
    {
      "cell_type": "markdown",
      "source": [
        "Now we repeat the creation of the model without the \"Condition\" variable"
      ],
      "metadata": {
        "id": "Cv-qfbyTaTyL"
      }
    },
    {
      "cell_type": "code",
      "source": [
        "X_data = data[['Bedroom', 'Space', 'Room', 'Lot', 'Tax', 'Bathroom', 'Garage']]\n",
        "y_data = data['Price']"
      ],
      "metadata": {
        "id": "KGiTv2z3aXO-"
      },
      "execution_count": 64,
      "outputs": []
    },
    {
      "cell_type": "code",
      "source": [
        "scaler = StandardScaler()\n",
        "scaler.fit(X_data)\n",
        "scaled_data = scaler.transform(X_data)"
      ],
      "metadata": {
        "id": "rWPTO6vTaYl1"
      },
      "execution_count": 65,
      "outputs": []
    },
    {
      "cell_type": "markdown",
      "source": [
        "Normalize data for better perfomance of the model"
      ],
      "metadata": {
        "id": "6-oENIvfdKsO"
      }
    },
    {
      "cell_type": "code",
      "source": [
        "max_acc = 0\n",
        "best_size = 0\n",
        "\n",
        "#Use different test sizes to see which has better performance\n",
        "for size in [0.15, 0.2, 0.25, 0.3, 0.35]:\n",
        "  X_train, X_test, y_train, y_test = train_test_split(X_data, y_data, random_state=42, test_size=size)\n",
        "\n",
        "  reg = LinearRegression().fit(X_train, y_train)\n",
        "\n",
        "  score = reg.score(X_test, y_test)\n",
        "\n",
        "  if score > max_acc:\n",
        "    max_acc = score\n",
        "    best_size = size\n",
        "\n",
        "print(\"The best accuracy is obtained with a test size of {} and is {}\".format(best_size, max_acc))"
      ],
      "metadata": {
        "colab": {
          "base_uri": "https://localhost:8080/"
        },
        "id": "A4OQxhquaZ_1",
        "outputId": "03278cfd-48e6-480e-cd98-ddd7494c7073"
      },
      "execution_count": 67,
      "outputs": [
        {
          "output_type": "stream",
          "name": "stdout",
          "text": [
            "The best accuracy is obtained with a test size of 0.25 and is 0.6949236382366816\n"
          ]
        }
      ]
    },
    {
      "cell_type": "markdown",
      "source": [
        "Despite the low correlation between the price and the \"Condition\" variable, the accuracy of the model y little bit better including it"
      ],
      "metadata": {
        "id": "SZWFvK2pajHK"
      }
    }
  ]
}